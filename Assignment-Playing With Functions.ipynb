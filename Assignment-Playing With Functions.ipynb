{
 "cells": [
  {
   "cell_type": "markdown",
   "metadata": {},
   "source": [
    "## Playing With Functions"
   ]
  },
  {
   "cell_type": "markdown",
   "metadata": {},
   "source": [
    "These exercises are designed to strengthen your grasp on basic programming concepts. Read what is required of you carefully. For example, instructions to **return** values are not the same as those of **printing**.\n",
    "\n",
    "Make sure that cells are in **script mode** (not **interactive mode**).\n"
   ]
  },
  {
   "cell_type": "markdown",
   "metadata": {},
   "source": [
    "# 1\n",
    "### 1 point\n",
    "\n",
    "Write a function that takes the circumference of a circle as a parameter and **returns** the area of that circle.\n",
    "\n",
    "Note: Assume the value of pi is 3.1416"
   ]
  },
  {
   "cell_type": "code",
   "execution_count": 5,
   "metadata": {},
   "outputs": [
    {
     "name": "stdout",
     "output_type": "stream",
     "text": [
      "5\n",
      "The area of the circle is:  1.98943213649096\n"
     ]
    }
   ],
   "source": [
    "def area(c):\n",
    "    area = (c**2) / (4 * pi)\n",
    "    return area\n",
    "circum = int(input())\n",
    "pi = 3.1416\n",
    "print('The area of the circle is: ' , area(circum))"
   ]
  },
  {
   "cell_type": "markdown",
   "metadata": {},
   "source": [
    "# 2\n",
    "### 2 points\n",
    "\n",
    "Write a function that takes a 5-character string as a parameter and **returns** the string in reverse order.\n",
    "\n",
    "e.g. reverseString(\"Hello\") -> \"olleH\""
   ]
  },
  {
   "cell_type": "code",
   "execution_count": 15,
   "metadata": {},
   "outputs": [
    {
     "name": "stdout",
     "output_type": "stream",
     "text": [
      "Hello\n",
      "olleH\n"
     ]
    }
   ],
   "source": [
    "word = input()\n",
    "print(word[::-1]) "
   ]
  },
  {
   "cell_type": "markdown",
   "metadata": {},
   "source": [
    "# 3\n",
    "### 2 points\n",
    "\n",
    "Write a function that takes a positive integer as input and **returns** the sum of all positive integers smaller than and including the number itself.\n",
    "\n",
    "e.g. backAddition(5) -> 1 + 2 + 3 + 4 + 5 -> 15"
   ]
  },
  {
   "cell_type": "code",
   "execution_count": 19,
   "metadata": {},
   "outputs": [
    {
     "name": "stdout",
     "output_type": "stream",
     "text": [
      "5\n",
      "15.0\n"
     ]
    }
   ],
   "source": [
    "def backAddition(n):\n",
    "    snum = (n *(n+1))/2\n",
    "    return snum\n",
    "\n",
    "a = backAddition(int(input()))\n",
    "print(a)\n",
    "    "
   ]
  },
  {
   "cell_type": "markdown",
   "metadata": {},
   "source": [
    "# 4\n",
    "### 5 points (all or nothing)\n",
    "\n",
    "The sum of the squares of the first ten natural numbers is,\n",
    "12 + 22 + ... + 102 = 385\n",
    "\n",
    "The square of the sum of the first ten natural numbers is,\n",
    "(1 + 2 + ... + 10)2 = 552 = 3025\n",
    "\n",
    "Hence the difference between the sum of the squares of the first ten natural numbers and the square of the sum is 3025 − 385 = 2640.\n",
    "\n",
    "Find the difference between the sum of the squares of the first one hundred natural numbers and the square of the sum.\n",
    "\n",
    "Show code that generates the answer."
   ]
  },
  {
   "cell_type": "code",
   "execution_count": 30,
   "metadata": {},
   "outputs": [
    {
     "name": "stdout",
     "output_type": "stream",
     "text": [
      "100\n",
      "25164150\n"
     ]
    }
   ],
   "source": [
    "def sumofsquares(n):\n",
    "    return sum([i**2 for i in range(1, n+1)])\n",
    "\n",
    "def squareofsum(n):\n",
    "    return sum(range(1, n+1)) ** 2\n",
    "\n",
    "n = int(input())\n",
    "result = squareofsum(n) - sumofsquares(n)\n",
    "\n",
    "print (result)\n",
    "\n",
    " \n"
   ]
  },
  {
   "cell_type": "markdown",
   "metadata": {},
   "source": [
    "# 5\n",
    "### 5 points \n",
    "\n",
    "Write a function that allows a self-service Point of Sale system to give you the exact change when you pay in cash.\n",
    "\n",
    "The function should accept the number of cents entered by the caller of the function. It then should **display** the denominations of the coins that should be given to the buyer. The change should use as few coins as possible. Assume that the Point of Sale system is loaded with 1 cent, 5 cents, 25 cents and 1 peso coins.\n",
    "\n",
    "Write main program code that accepts the number of cents manually through user input and calls the function written above.\n",
    "\n",
    "**Input:** The program accepts one positive integer, ***cents***, corresponding to the total change to be given by the Point of Sale system.\n",
    "\n",
    "**Output:** The number of 1 peso, 50 cents, 25 cents and 1 cent coins respectively. There should be one output per line.\n",
    "\n",
    "**Sample Input 1:**  \n",
    "105\n",
    "\n",
    "**Sample Output 1**  \n",
    "1  \n",
    "0  \n",
    "0  \n",
    "1  \n",
    "0  \n",
    "\n",
    "**Sample Input 2:**  \n",
    "69  \n",
    "\n",
    "**Sample Output 2:**  \n",
    "0  \n",
    "2  \n",
    "1  \n",
    "1  \n",
    "4  \n",
    "\n",
    "\n"
   ]
  },
  {
   "cell_type": "code",
   "execution_count": 58,
   "metadata": {},
   "outputs": [
    {
     "name": "stdout",
     "output_type": "stream",
     "text": [
      "69\n",
      "0 2\n",
      "1 1\n",
      "4\n"
     ]
    }
   ],
   "source": [
    "peso = 100\n",
    "quarter = 25\n",
    "dime = 10\n",
    "nickel = 5\n",
    "cent = 1 \n",
    "p = 0\n",
    "q = 0\n",
    "d = 0\n",
    "n = 0\n",
    "c = 0\n",
    "\n",
    "i = input()\n",
    "i = int(i)\n",
    "\n",
    "if i>=100:\n",
    "    p = i//peso\n",
    "    i %= peso\n",
    "if i>=25:\n",
    "    q = i//quarter\n",
    "    i %= quarter\n",
    "if i>=10:\n",
    "    d = i//dime\n",
    "    i %=dime\n",
    "if i>=5:\n",
    "    n = i//nickel\n",
    "    i %= nickel\n",
    "if i>0:\n",
    "    c = i//cent\n",
    "    i = 0\n",
    "    \n",
    "print(p,q)\n",
    "print(d,n)\n",
    "print(c)\n"
   ]
  },
  {
   "cell_type": "code",
   "execution_count": null,
   "metadata": {},
   "outputs": [],
   "source": []
  }
 ],
 "metadata": {
  "kernelspec": {
   "display_name": "Python 3",
   "language": "python",
   "name": "python3"
  },
  "language_info": {
   "codemirror_mode": {
    "name": "ipython",
    "version": 3
   },
   "file_extension": ".py",
   "mimetype": "text/x-python",
   "name": "python",
   "nbconvert_exporter": "python",
   "pygments_lexer": "ipython3",
   "version": "3.8.5"
  }
 },
 "nbformat": 4,
 "nbformat_minor": 2
}
